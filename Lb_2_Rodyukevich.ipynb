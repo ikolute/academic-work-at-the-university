{
  "nbformat": 4,
  "nbformat_minor": 0,
  "metadata": {
    "colab": {
      "provenance": []
    },
    "kernelspec": {
      "name": "python3",
      "display_name": "Python 3"
    },
    "language_info": {
      "name": "python"
    }
  },
  "cells": [
    {
      "cell_type": "code",
      "execution_count": null,
      "metadata": {
        "id": "RtMykP1RYXcC"
      },
      "outputs": [],
      "source": [
        "from sklearn.datasets import fetch_openml\n",
        "mnist = fetch_openml('mnist_784',as_frame = False)"
      ]
    },
    {
      "cell_type": "code",
      "source": [
        "from sklearn import preprocessing\n",
        "import numpy as np\n",
        "X = mnist.data.astype(float)\n",
        "X = X/255\n",
        "y = preprocessing.LabelBinarizer().fit_transform(mnist.target)\n",
        "\n",
        "train_size = 60000\n",
        "\n",
        "X_train, X_test = np.split(X, [train_size])\n",
        "y_train, y_test = np.split(y, [train_size])\n"
      ],
      "metadata": {
        "id": "QYl9IrmaYdlO"
      },
      "execution_count": null,
      "outputs": []
    },
    {
      "cell_type": "code",
      "source": [
        "import matplotlib.pyplot as plt\n",
        "\n",
        "I = 30 # номер изображения для вывода\n",
        "plt.imshow(X_train[I].reshape([28, 28]), cmap='gray')\n",
        "plt.title('Class: '+ str(y_train[I]))\n",
        "print(\"Цифра: \", np.argmax(y_train[I]))\n"
      ],
      "metadata": {
        "colab": {
          "base_uri": "https://localhost:8080/",
          "height": 299
        },
        "id": "Qgbpwp6oYwEo",
        "outputId": "6c7fa157-8083-4f15-b237-9c9657136469"
      },
      "execution_count": null,
      "outputs": [
        {
          "output_type": "stream",
          "name": "stdout",
          "text": [
            "Цифра:  3\n"
          ]
        },
        {
          "output_type": "display_data",
          "data": {
            "text/plain": [
              "<Figure size 432x288 with 1 Axes>"
            ],
            "image/png": "[encoded data removed]"
          },
          "metadata": {
            "needs_background": "light"
          }
        }
      ]
    },
    {
      "cell_type": "code",
      "source": [
        "from keras.models import Sequential\n",
        "from keras.layers.core import Dense\n",
        "model = Sequential()\n",
        "model.add(Dense(50, input_shape=(784,), activation=\"relu\"))\n",
        "model.add(Dense(10, activation=\"softmax\"))"
      ],
      "metadata": {
        "id": "yhalybMQYwUh"
      },
      "execution_count": null,
      "outputs": []
    },
    {
      "cell_type": "code",
      "source": [
        "from keras.optimizers import Adam\n",
        "\n",
        "model.compile(loss='mse', metrics=['accuracy'], optimizer=Adam())"
      ],
      "metadata": {
        "id": "a7Zu0RoyY0wP"
      },
      "execution_count": null,
      "outputs": []
    },
    {
      "cell_type": "code",
      "source": [
        "model.fit(X_train, y_train, epochs = 5)"
      ],
      "metadata": {
        "colab": {
          "base_uri": "https://localhost:8080/"
        },
        "id": "gD2BxC0WY4Oo",
        "outputId": "78b7a4b0-9984-4d37-eb2a-45374257f6c9"
      },
      "execution_count": null,
      "outputs": [
        {
          "output_type": "stream",
          "name": "stdout",
          "text": [
            "Epoch 1/5\n",
            "1875/1875 [==============================] - 5s 2ms/step - loss: 0.0142 - accuracy: 0.9096\n",
            "Epoch 2/5\n",
            "1875/1875 [==============================] - 3s 2ms/step - loss: 0.0078 - accuracy: 0.9503\n",
            "Epoch 3/5\n",
            "1875/1875 [==============================] - 4s 2ms/step - loss: 0.0060 - accuracy: 0.9625\n",
            "Epoch 4/5\n",
            "1875/1875 [==============================] - 3s 2ms/step - loss: 0.0051 - accuracy: 0.9685\n",
            "Epoch 5/5\n",
            "1875/1875 [==============================] - 3s 2ms/step - loss: 0.0043 - accuracy: 0.9735\n"
          ]
        },
        {
          "output_type": "execute_result",
          "data": {
            "text/plain": [
              "<keras.callbacks.History at 0x7fccd4962fd0>"
            ]
          },
          "metadata": {},
          "execution_count": 7
        }
      ]
    },
    {
      "cell_type": "code",
      "source": [
        "scores = model.evaluate(X_test, y_test)\n",
        "print(scores)\n"
      ],
      "metadata": {
        "colab": {
          "base_uri": "https://localhost:8080/"
        },
        "id": "noXTGec3Y6Bz",
        "outputId": "ee9ef4e2-c2ab-4f80-a0d7-755921dd1e58"
      },
      "execution_count": null,
      "outputs": [
        {
          "output_type": "stream",
          "name": "stdout",
          "text": [
            "313/313 [==============================] - 1s 3ms/step - loss: 0.0056 - accuracy: 0.9648\n",
            "[0.005572590511292219, 0.9648000001907349]\n"
          ]
        }
      ]
    },
    {
      "cell_type": "code",
      "source": [
        "I = 37\n",
        "plt.imshow(X_test[I].reshape([28, 28]), cmap='gray')\n",
        "plt.title('Class: '+ str(y_test[I]))\n",
        "print(\"Предсказание нейронной сети:\", np.argmax(model.predict(X_test[I].reshape([1,784]))))\n",
        "print(\"Цифра: \", np.argmax(y_test[I]))\n"
      ],
      "metadata": {
        "colab": {
          "base_uri": "https://localhost:8080/",
          "height": 336
        },
        "id": "dbmkDmqLZD0s",
        "outputId": "125bee34-10c1-4d83-f745-7fdac8ce07ee"
      },
      "execution_count": null,
      "outputs": [
        {
          "output_type": "stream",
          "name": "stdout",
          "text": [
            "1/1 [==============================] - 0s 30ms/step\n",
            "Предсказание нейронной сети: 1\n",
            "Цифра:  1\n"
          ]
        },
        {
          "output_type": "display_data",
          "data": {
            "text/plain": [
              "<Figure size 432x288 with 1 Axes>"
            ],
            "image/png": "[encoded data removed]"
          },
          "metadata": {
            "needs_background": "light"
          }
        }
      ]
    },
    {
      "cell_type": "code",
      "source": [
        "I = 50\n",
        "plt.imshow(X_test[I].reshape([28, 28]), cmap='gray')\n",
        "plt.title('Class: '+ str(y_test[I]))\n",
        "print(\"Предсказание нейронной сети:\", np.argmax(model.predict(X_test[I].reshape([1,784]))))\n",
        "print(\"Цифра: \", np.argmax(y_test[I]))"
      ],
      "metadata": {
        "colab": {
          "base_uri": "https://localhost:8080/",
          "height": 336
        },
        "id": "v_8nlcm_ZInx",
        "outputId": "6d15db88-721c-4b38-cfee-e6b0936751b2"
      },
      "execution_count": null,
      "outputs": [
        {
          "output_type": "stream",
          "name": "stdout",
          "text": [
            "1/1 [==============================] - 0s 16ms/step\n",
            "Предсказание нейронной сети: 6\n",
            "Цифра:  6\n"
          ]
        },
        {
          "output_type": "display_data",
          "data": {
            "text/plain": [
              "<Figure size 432x288 with 1 Axes>"
            ],
            "image/png": "[encoded data removed]"
          },
          "metadata": {
            "needs_background": "light"
          }
        }
      ]
    },
    {
      "cell_type": "code",
      "source": [
        "I = 43\n",
        "plt.imshow(X_test[I].reshape([28, 28]), cmap='gray')\n",
        "plt.title('Class: '+ str(y_test[I]))\n",
        "print(\"Предсказание нейронной сети:\", np.argmax(model.predict(X_test[I].reshape([1,784]))))\n",
        "print(\"Цифра: \", np.argmax(y_test[I]))\n"
      ],
      "metadata": {
        "colab": {
          "base_uri": "https://localhost:8080/",
          "height": 336
        },
        "id": "6mYyCiSzlfBR",
        "outputId": "48b83e9b-751b-4714-ddef-ce0427f8d9b7"
      },
      "execution_count": null,
      "outputs": [
        {
          "output_type": "stream",
          "name": "stdout",
          "text": [
            "1/1 [==============================] - 0s 18ms/step\n",
            "Предсказание нейронной сети: 2\n",
            "Цифра:  2\n"
          ]
        },
        {
          "output_type": "display_data",
          "data": {
            "text/plain": [
              "<Figure size 432x288 with 1 Axes>"
            ],
            "image/png": "[encoded data removed]"
          },
          "metadata": {
            "needs_background": "light"
          }
        }
      ]
    },
    {
      "cell_type": "code",
      "source": [],
      "metadata": {
        "id": "X3DIxNS1ljrC"
      },
      "execution_count": null,
      "outputs": []
    }
  ]
}